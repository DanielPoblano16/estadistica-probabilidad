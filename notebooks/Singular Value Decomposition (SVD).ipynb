{
 "cells": [
  {
   "cell_type": "markdown",
   "metadata": {},
   "source": [
    "# Descomposición por valores singulares y sistemas de recomendación.\n",
    "\n",
    "Al igual que el análisis de componentes principales (PCA por sus siglas en inglés), la descomposición por valores singulares (SVD en inglés) es uno de los métodos más usuales para reducir la dimensión de nuestro conjunto de datos.\n",
    "\n",
    "A diferencia del PCA, este método no requiere del uso de la matriz de **varianzas y covarianzas**.\n",
    "\n",
    "+ **A favor:** Reduce la dimensión de nuestros datos, remueve el ruido que podrían contener.\n",
    "+ **En contra:** Se pierde interpretación en los datos transformados.\n",
    "+ **Tipo de datos:** Numéricos.\n",
    "\n",
    "En estas notas, se expondrá la relación entre SVD y los sistemas de recomendación.\n",
    "***\n",
    "\n",
    "## Descomposición de la matriz de datos.\n",
    "Sea $\\mathbf{D_{m \\times n}}$ una matriz de $m \\times n$ la cual representa nuestro conjunto de datos. El método de descomposición por valores singulares nos dice que:\n",
    "\n",
    "$$ \\mathbf{D_{m \\times n}} = \\mathbf{U_{m \\times m}} \\mathbf{\\Sigma_{m \\times n}} \\mathbf{V_{n \\times n}^{T}}$$\n",
    "\n",
    "en donde la matriz $\\mathbf{\\Sigma_{m \\times n}}$ es una matriz con elementos igual a $0$, excepto posiblemente, en su diagonal. Estos valores distintos de cero, reciben el nombre de **valores singulares** y son igual a la raiz cuadrada de los eigenvalores de la matriz $\\mathbf{D_{m \\times n}} \\mathbf{D_{m \\times n}^{T}}$. Además, los valores en la diagonal están ordenados de mayor a menor.\n",
    "\n",
    "## SVD en Python con numpy.\n",
    "Es posible obtener factorización anterior utilizando el paquete **numpy**, en particular, la función **svd** del módulo **linalg**."
   ]
  },
  {
   "cell_type": "code",
   "execution_count": 39,
   "metadata": {},
   "outputs": [
    {
     "name": "stdout",
     "output_type": "stream",
     "text": [
      "m es igual a 2\n",
      "n es igual a 3\n",
      "La dimensión de U es (2, 2)\n",
      "La dimensión de sigma es (2,)\n",
      "La dimensión de V^T es (3, 3)\n",
      "[9.508032   0.77286964]\n"
     ]
    }
   ],
   "source": [
    "import numpy as np\n",
    "datos = np.matrix([[1,2,3], [4,5,6]])\n",
    "num_renglones = datos.shape[0] # m\n",
    "num_columnas = datos.shape[1] #n\n",
    "U, sig, VT = np.linalg.svd(datos)\n",
    "\n",
    "print('m es igual a ' + str(num_renglones))\n",
    "print('n es igual a ' + str(num_columnas))\n",
    "print('La dimensión de U es ' + str(U.shape))\n",
    "print('La dimensión de sigma es ' + str(sig.shape))\n",
    "print('La dimensión de V^T es ' + str(VT.shape))\n",
    "print(sig) #No es una matriz!"
   ]
  },
  {
   "cell_type": "markdown",
   "metadata": {},
   "source": [
    "Como podemos observar, la función **svd**, en lugar de regresar la matriz $\\mathbf{\\Sigma_{m \\times n}}$, nos regresa un vector que representa la diagonal de esta matriz. Esto se hace por cuestiones de ahorro en la memoria, recuerde que el resto de los elementos es igual a cero.\n",
    "\n",
    "Para poder obtener $\\mathbf{\\Sigma_{m \\times n}}$, utilizaremos las funciones **zeros** y **fill_diagonal** de **numpy**"
   ]
  },
  {
   "cell_type": "code",
   "execution_count": 41,
   "metadata": {},
   "outputs": [
    {
     "name": "stdout",
     "output_type": "stream",
     "text": [
      "[[9.508032   0.         0.        ]\n",
      " [0.         0.77286964 0.        ]]\n",
      "(2, 3)\n"
     ]
    }
   ],
   "source": [
    "mat_sigma = np.zeros((num_renglones, num_columnas)) #matriz de ceros\n",
    "np.fill_diagonal(mat_sigma, sig) #Se modifica la diagonal\n",
    "print(mat_sigma)\n",
    "print(mat_sigma.shape)"
   ]
  },
  {
   "cell_type": "markdown",
   "metadata": {},
   "source": [
    "Verifiquemos que la descomposición fue correcta"
   ]
  },
  {
   "cell_type": "code",
   "execution_count": 44,
   "metadata": {},
   "outputs": [
    {
     "name": "stdout",
     "output_type": "stream",
     "text": [
      "La matriz original es: \n",
      "[[1 2 3]\n",
      " [4 5 6]]\n",
      "El producto de la descomposición es:\n",
      "[[1. 2. 3.]\n",
      " [4. 5. 6.]]\n"
     ]
    }
   ],
   "source": [
    "print('La matriz original es: ')\n",
    "print(datos)\n",
    "print('El producto de la descomposición es:')\n",
    "print(U * mat_sigma * VT)"
   ]
  }
 ],
 "metadata": {
  "kernelspec": {
   "display_name": "Python 3",
   "language": "python",
   "name": "python3"
  },
  "language_info": {
   "codemirror_mode": {
    "name": "ipython",
    "version": 3
   },
   "file_extension": ".py",
   "mimetype": "text/x-python",
   "name": "python",
   "nbconvert_exporter": "python",
   "pygments_lexer": "ipython3",
   "version": "3.7.3"
  }
 },
 "nbformat": 4,
 "nbformat_minor": 2
}
