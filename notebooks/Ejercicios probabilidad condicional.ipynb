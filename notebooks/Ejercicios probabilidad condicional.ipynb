{
 "cells": [
  {
   "cell_type": "markdown",
   "metadata": {},
   "source": [
    "# Ejercicios de probabilidad condicional\n",
    "\n",
    "## Ejercicio 1\n",
    "Supongamos que tenemos dos monedas idénticas y perfectamente balanceadas.\n",
    "Si se lanza cada moneda una vez, encuentre:\n",
    "\n",
    "a) La probabilidad de que ambas monedas muestren **cara**, dado que la primera muestra **cara**.\n",
    "\n",
    "b) La probabilidad de que ambas monedas muestren **cara**, dado que al menos una de ellas muestra **cara**"
   ]
  },
  {
   "cell_type": "code",
   "execution_count": 1,
   "metadata": {},
   "outputs": [
    {
     "name": "stdout",
     "output_type": "stream",
     "text": [
      "La probabilidad condicional es 0.5\n"
     ]
    }
   ],
   "source": [
    "import numpy as np\n",
    "#inciso a\n",
    "\n",
    "#Se generan varias repeticiones del experimento\n",
    "n = int(1e6)\n",
    "resultados = np.random.choice(['cara','cruz'], size = (n,2))\n",
    "\n",
    "#Se obtienen los experimentos en los cuales la primera moneda es cara\n",
    "condicional = resultados[resultados[:,0] == 'cara']\n",
    "\n",
    "#Se obtienen los experimentos en donde las dos monedas son cara\n",
    "ambas_cara = resultados[np.logical_and(resultados[:,0] == 'cara',\n",
    "                                      resultados[:,1] == 'cara')]\n",
    "\n",
    "#Calcula la probabilidad condicional\n",
    "proba = ambas_cara.shape[0] / condicional.shape[0]\n",
    "print('La probabilidad condicional es', round(proba,2))"
   ]
  },
  {
   "cell_type": "code",
   "execution_count": 2,
   "metadata": {},
   "outputs": [
    {
     "name": "stdout",
     "output_type": "stream",
     "text": [
      "La probabilidad condicional es 0.33\n"
     ]
    }
   ],
   "source": [
    "# inciso b\n",
    "#Se obtienen los experimentos en los cuales al menos una moneda es cara\n",
    "aux = np.logical_or(resultados[:,0] == 'cara',\n",
    "                                      resultados[:,1] == 'cara')\n",
    "condicional = resultados[aux]\n",
    "\n",
    "#Calcula la probabilidad condicional\n",
    "proba = ambas_cara.shape[0] / condicional.shape[0]\n",
    "print('La probabilidad condicional es', round(proba,2))\n"
   ]
  },
  {
   "cell_type": "markdown",
   "metadata": {},
   "source": [
    "## Ejercicio 2\n",
    "Si un punto en $\\mathbb{R}^2$, dentro del cuadrado unitario $C = \\{(x,y): (x,y) \\in [0,1] \\times[0,1]  \\}$ se selecciona al azar y se sabe que está dentro de la región triangular acotada por $x = 0, y = 0, x + y = 1$, encuentre la probabilidad de que este punto también se encuentre dentro del triángulo acotado por $y = 0, x = 1, x = y$."
   ]
  },
  {
   "cell_type": "code",
   "execution_count": 3,
   "metadata": {},
   "outputs": [
    {
     "name": "stdout",
     "output_type": "stream",
     "text": [
      "La probabilidad es 0.5\n"
     ]
    }
   ],
   "source": [
    "#simula los puntos dentro del cuadrado unitario\n",
    "n = int(1e6)\n",
    "puntos = np.random.uniform(0, 1, size = (n, 2))\n",
    "\n",
    "#Localiza los puntos dentro del triángulo 1 (y <= 1 - x)\n",
    "triangulo1 = puntos[puntos[:,1] <= 1 - puntos[:,0]]\n",
    "\n",
    "#Localiza los puntos dentro del triángulo 2 (y <= 1 - x and y <= x)\n",
    "aux = np.logical_and(puntos[:,1] <= 1 - puntos[:,0], \n",
    "                    puntos[:,1] <= puntos[:,0])\n",
    "triangulo2 = puntos[aux]\n",
    "\n",
    "#Calcula la probabilidad\n",
    "proba = triangulo2.shape[0] / triangulo1.shape[0]\n",
    "print('La probabilidad es', round(proba,2))"
   ]
  },
  {
   "cell_type": "code",
   "execution_count": null,
   "metadata": {},
   "outputs": [],
   "source": []
  }
 ],
 "metadata": {
  "kernelspec": {
   "display_name": "Python 3",
   "language": "python",
   "name": "python3"
  },
  "language_info": {
   "codemirror_mode": {
    "name": "ipython",
    "version": 3
   },
   "file_extension": ".py",
   "mimetype": "text/x-python",
   "name": "python",
   "nbconvert_exporter": "python",
   "pygments_lexer": "ipython3",
   "version": "3.7.3"
  }
 },
 "nbformat": 4,
 "nbformat_minor": 2
}
