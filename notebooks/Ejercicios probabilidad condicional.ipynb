{
 "cells": [
  {
   "cell_type": "markdown",
   "metadata": {},
   "source": [
    "# Ejercicios de probabilidad condicional\n",
    "\n",
    "## Ejercicio 1\n",
    "Supongamos que tenemos dos monedas idénticas y perfectamente balanceadas.\n",
    "Si se lanza cada moneda una vez, encuentre:\n",
    "\n",
    "a) La probabilidad de que ambas monedas muestren **cara**, dado que la primera muestra **cara**.\n",
    "\n",
    "b) La probabilidad de que ambas monedas muestren **cara**, dado que al menos una de ellas muestra **cara**"
   ]
  },
  {
   "cell_type": "code",
   "execution_count": null,
   "metadata": {},
   "outputs": [],
   "source": [
    "import numpy as np\n",
    "#inciso a\n",
    "\n",
    "#Se generan varias repeticiones del experimento\n",
    "n = int(1e6)\n",
    "resultados = np.random.choice(['cara','cruz'], size = (n,2))\n",
    "\n",
    "#Se obtienen los experimentos en los cuales la primera moneda es cara\n",
    "condicional = resultados[resultados[:,0] == 'cara']\n",
    "\n",
    "#Se obtienen los experimentos en donde las dos monedas son cara\n",
    "ambas_cara = resultados[np.logical_and(resultados[:,0] == 'cara',\n",
    "                                      resultados[:,1] == 'cara')]\n",
    "\n",
    "#Calcula la probabilidad condicional\n",
    "cociente = len(ambas_cara) / len(condicional)\n",
    "print('La probabilidad condicional es', round(cociente,2))"
   ]
  },
  {
   "cell_type": "code",
   "execution_count": null,
   "metadata": {},
   "outputs": [],
   "source": [
    "# inciso b\n",
    "#Se obtienen los experimentos en los cuales al menos una moneda es cara\n",
    "aux = np.logical_or(resultados[:,0] == 'cara',\n",
    "                                      resultados[:,1] == 'cara')\n",
    "condicional = resultados[aux]\n",
    "\n",
    "#Calcula la probabilidad condicional\n",
    "cociente = len(ambas_cara) / len(condicional)\n",
    "print('La probabilidad condicional es', round(cociente,2))\n"
   ]
  },
  {
   "cell_type": "code",
   "execution_count": null,
   "metadata": {},
   "outputs": [],
   "source": []
  }
 ],
 "metadata": {
  "kernelspec": {
   "display_name": "Python 3",
   "language": "python",
   "name": "python3"
  },
  "language_info": {
   "codemirror_mode": {
    "name": "ipython",
    "version": 3
   },
   "file_extension": ".py",
   "mimetype": "text/x-python",
   "name": "python",
   "nbconvert_exporter": "python",
   "pygments_lexer": "ipython3",
   "version": "3.7.3"
  }
 },
 "nbformat": 4,
 "nbformat_minor": 2
}
